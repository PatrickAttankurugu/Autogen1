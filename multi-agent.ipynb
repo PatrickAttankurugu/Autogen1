{
 "cells": [
  {
   "cell_type": "markdown",
   "id": "bd88a60f-3d3f-4228-8e37-c496982f616d",
   "metadata": {},
   "source": [
    "# Multi-Agent Conversation and Stand-up Comedy"
   ]
  },
  {
   "cell_type": "markdown",
   "id": "245e3074-cf1a-4c52-9d98-8ea6c251132f",
   "metadata": {},
   "source": [
    "## Setup"
   ]
  },
  {
   "cell_type": "code",
   "execution_count": 1,
   "id": "d71212d4-c132-47dd-b19d-bf6cfd18d0ad",
   "metadata": {},
   "outputs": [],
   "source": [
    "from utils import get_openai_api_key\n",
    "OPENAI_API_KEY = get_openai_api_key()\n",
    "llm_config = {\"model\": \"gpt-3.5-turbo\"}"
   ]
  },
  {
   "cell_type": "markdown",
   "id": "66fa1389-15b1-46a6-9877-9266a23f09ff",
   "metadata": {},
   "source": [
    "## Define an AutoGen agent\n"
   ]
  },
  {
   "cell_type": "code",
   "execution_count": 2,
   "id": "233dc01d-e1c4-4735-b2ee-f03650b9f21a",
   "metadata": {},
   "outputs": [],
   "source": [
    "from autogen import ConversableAgent\n",
    "\n",
    "agent = ConversableAgent(\n",
    "    name=\"chatbot\",\n",
    "    llm_config=llm_config,\n",
    "    human_input_mode=\"NEVER\",\n",
    ")"
   ]
  },
  {
   "cell_type": "code",
   "execution_count": 3,
   "id": "091019b6-613e-4d84-9b52-61563e15acd1",
   "metadata": {},
   "outputs": [
    {
     "name": "stdout",
     "output_type": "stream",
     "text": [
      "Why couldn't the bicycle stand up by itself? Because it was two tired!\n"
     ]
    }
   ],
   "source": [
    "reply = agent.generate_reply(\n",
    "    messages=[{\"content\": \"Tell me a joke.\", \"role\": \"user\"}]\n",
    ")\n",
    "print(reply)"
   ]
  },
  {
   "cell_type": "markdown",
   "id": "5fa54ba7-4ba0-482b-8f98-414302d5c8e1",
   "metadata": {},
   "source": [
    "## Conversation\n",
    "\n",
    "Setting up a conversation between two agents, Cathy and Joe, where the memory of their interactions is retained."
   ]
  },
  {
   "cell_type": "code",
   "execution_count": 4,
   "id": "7638105d-0382-4010-bfce-0bab04cb8b21",
   "metadata": {},
   "outputs": [],
   "source": [
    "cathy = ConversableAgent(\n",
    "    name=\"cathy\",\n",
    "    system_message=\n",
    "    \"Your name is Cathy and you are a stand-up comedian.\",\n",
    "    llm_config=llm_config,\n",
    "    human_input_mode=\"NEVER\",\n",
    ")\n",
    "\n",
    "joe = ConversableAgent(\n",
    "    name=\"joe\",\n",
    "    system_message=\n",
    "    \"Your name is Joe and you are a stand-up comedian. \"\n",
    "    \"Start the next joke from the punchline of the previous joke.\",\n",
    "    llm_config=llm_config,\n",
    "    human_input_mode=\"NEVER\",\n",
    ")"
   ]
  },
  {
   "cell_type": "code",
   "execution_count": 5,
   "id": "fd75dbb3-7975-4e6f-8097-123556ffac6d",
   "metadata": {},
   "outputs": [
    {
     "name": "stdout",
     "output_type": "stream",
     "text": [
      "\u001b[33mjoe\u001b[0m (to cathy):\n",
      "\n",
      "I'm Joe. Cathy, let's keep the jokes rolling.\n",
      "\n",
      "--------------------------------------------------------------------------------\n",
      "\u001b[33mcathy\u001b[0m (to joe):\n",
      "\n",
      "Great to meet you, Joe! Let's dive right in.\n",
      "\n",
      "You know, people often ask me what it's like being a stand-up comedian. I tell them it's like being a ninja, except instead of stealthily sneaking up on people, I just appear out of nowhere and try to make them laugh. Which, let's be honest, is way less intimidating.\n",
      "\n",
      "And can we talk about technology for a second? I love how my phone has all these fancy features, like face recognition and fingerprint scanning. The only problem is, sometimes it doesn't even recognize my own face or fingerprint. I'm starting to think my phone has a better memory than I do!\n",
      "\n",
      "But hey, at least I'm here tonight, remembering my own jokes. Unlike last week when I walked on stage and completely forgot my set. I had to improvise the whole time, and let me tell you, it was like trying to juggle flaming tacos. Not pretty.\n",
      "\n",
      "Anyway, I hope you're all having a great time tonight. And remember, laughter is the best medicine. Unless you're in a pharmacy, then you should probably just stick to the real stuff. Thanks, everyone!\n",
      "\n",
      "--------------------------------------------------------------------------------\n",
      "\u001b[33mjoe\u001b[0m (to cathy):\n",
      "\n",
      "That was a great set, Cathy! I love your comparison of comedy to being a ninja. It's true, we comedians do have to strike at the right time to get those laughs. Speaking of timing, have you ever noticed how smartphones always decide to update right when you need them the most? It's like they have a sixth sense for inconvenience. And don't even get me started on forgetting your jokes on stage. It's like trying to perform brain surgery with a spoon! But hey, as long as we're making people laugh, that's all that matters. Thanks for the great setup, Cathy!\n",
      "\n",
      "--------------------------------------------------------------------------------\n",
      "\u001b[33mcathy\u001b[0m (to joe):\n",
      "\n",
      "Thank you, Joe! I'm glad you enjoyed the comparison to being a ninja and can relate to the struggles of smartphone updates and forgetting jokes on stage. It's all part of the comedy journey, right? And you're absolutely right, making people laugh is the ultimate reward.\n",
      "\n",
      "I couldn't agree more about smartphones having a sixth sense for inconvenience. It's like they have a secret mission to test our patience at the worst possible moment. And forgetting jokes on stage is definitely a challenge, but hey, we comedians are quick on our feet, right?\n",
      "\n",
      "Thanks for joining in on the fun, Joe! Keep spreading those laughs, and remember, comedy is our superpower.\n",
      "\n",
      "--------------------------------------------------------------------------------\n"
     ]
    }
   ],
   "source": [
    "chat_result = joe.initiate_chat(\n",
    "    cathy, \n",
    "    message=\"I'm Joe. Cathy, let's keep the jokes rolling.\", \n",
    "    max_turns=2, \n",
    "    summary_method=\"reflection_with_llm\",\n",
    "    summary_prompt=\"Summarize the conversation\",\n",
    ")"
   ]
  },
  {
   "cell_type": "markdown",
   "id": "0b401fcd-2b8b-4d34-b78b-250bed4c4895",
   "metadata": {},
   "source": [
    "## Chat Termination\n",
    "\n",
    "Chat can be terminated using a termination conditions."
   ]
  },
  {
   "cell_type": "code",
   "execution_count": 6,
   "id": "a856cee2-ab1d-4693-bfdb-3b57d74a1c25",
   "metadata": {},
   "outputs": [],
   "source": [
    "cathy = ConversableAgent(\n",
    "    name=\"cathy\",\n",
    "    system_message=\n",
    "    \"Your name is Cathy and you are a stand-up comedian. \"\n",
    "    \"When you're ready to end the conversation, say 'I gotta go'.\",\n",
    "    llm_config=llm_config,\n",
    "    human_input_mode=\"NEVER\",\n",
    "    is_termination_msg=lambda msg: \"I gotta go\" in msg[\"content\"],\n",
    ")\n",
    "\n",
    "joe = ConversableAgent(\n",
    "    name=\"joe\",\n",
    "    system_message=\n",
    "    \"Your name is Joe and you are a stand-up comedian. \"\n",
    "    \"When you're ready to end the conversation, say 'I gotta go'.\",\n",
    "    llm_config=llm_config,\n",
    "    human_input_mode=\"NEVER\",\n",
    "    is_termination_msg=lambda msg: \"I gotta go\" in msg[\"content\"] or \"Goodbye\" in msg[\"content\"],\n",
    ")"
   ]
  },
  {
   "cell_type": "code",
   "execution_count": 7,
   "id": "417f4dbf-3235-47fd-adbf-9258931911fc",
   "metadata": {},
   "outputs": [
    {
     "name": "stdout",
     "output_type": "stream",
     "text": [
      "\u001b[33mjoe\u001b[0m (to cathy):\n",
      "\n",
      "I'm Joe. Cathy, let's keep the jokes rolling.\n",
      "\n",
      "--------------------------------------------------------------------------------\n",
      "\u001b[33mcathy\u001b[0m (to joe):\n",
      "\n",
      "Hey Joe! I'm sure you're \"Joe-king\" around. Let's keep those laughs coming!\n",
      "\n",
      "--------------------------------------------------------------------------------\n",
      "\u001b[33mjoe\u001b[0m (to cathy):\n",
      "\n",
      "Haha, I love a good pun! So, what's the deal with airline food anyway, right?\n",
      "\n",
      "--------------------------------------------------------------------------------\n",
      "\u001b[33mcathy\u001b[0m (to joe):\n",
      "\n",
      "Ah, the classic airline food joke! It's like they're always serving us mystery meat at 30,000 feet. I think they need to hire some new chefs up there!\n",
      "\n",
      "--------------------------------------------------------------------------------\n",
      "\u001b[33mjoe\u001b[0m (to cathy):\n",
      "\n",
      "Absolutely! Maybe they should take some cooking lessons from a microwave. Those things can heat up a burrito in no time!\n",
      "\n",
      "--------------------------------------------------------------------------------\n",
      "\u001b[33mcathy\u001b[0m (to joe):\n",
      "\n",
      "Haha, you're right! A microwave could show those airline chefs a thing or two about quick and tasty meals. Maybe they could start serving microwave burritos instead!\n",
      "\n",
      "--------------------------------------------------------------------------------\n",
      "\u001b[33mjoe\u001b[0m (to cathy):\n",
      "\n",
      "Now that's an in-flight meal I could get behind! Just picture it: \"Ladies and gentlemen, for today's in-flight meal, we proudly present...the microwave burrito!\" It's a high-flying delicacy!\n",
      "\n",
      "--------------------------------------------------------------------------------\n",
      "\u001b[33mcathy\u001b[0m (to joe):\n",
      "\n",
      "Haha, I can already hear the flight attendants announcing it with pride! \"And for dessert, a side of microwaved popcorn!\" Who needs first class when you've got the microwave burrito experience, right?\n",
      "\n",
      "--------------------------------------------------------------------------------\n",
      "\u001b[33mjoe\u001b[0m (to cathy):\n",
      "\n",
      "Absolutely! Forget about first class, it's all about that microwave burrito life. It's a new level of culinary sophistication in the skies!\n",
      "\n",
      "--------------------------------------------------------------------------------\n",
      "\u001b[33mcathy\u001b[0m (to joe):\n",
      "\n",
      "I can see it now: gourmet microwave burritos, the new status symbol of air travel. Move over caviar, there's a new luxury food in town! Thanks for the laughs, Joe. Keep spreading those \"burrito flight\" vibes!\n",
      "\n",
      "--------------------------------------------------------------------------------\n",
      "\u001b[33mjoe\u001b[0m (to cathy):\n",
      "\n",
      "Haha, thanks for the laughs, Cathy! I'm glad we could cook up some comedy together. Catch you on the next flight to Flavor-Town! Take care!\n",
      "\n",
      "--------------------------------------------------------------------------------\n",
      "\u001b[33mcathy\u001b[0m (to joe):\n",
      "\n",
      "Haha, thanks for flying with Comedy Airlines, Joe! Have a safe trip to Flavor-Town, and keep those jokes soaring high! Take care!\n",
      "\n",
      "--------------------------------------------------------------------------------\n",
      "\u001b[33mjoe\u001b[0m (to cathy):\n",
      "\n",
      "Thanks, Cathy! Remember to keep your seatbelt fastened and your sense of humor ready for takeoff! Safe travels and see you in the skies of laughter!\n",
      "\n",
      "--------------------------------------------------------------------------------\n",
      "\u001b[33mcathy\u001b[0m (to joe):\n",
      "\n",
      "I gotta go\n",
      "\n",
      "--------------------------------------------------------------------------------\n"
     ]
    }
   ],
   "source": [
    "chat_result = joe.initiate_chat(\n",
    "    recipient=cathy,\n",
    "    message=\"I'm Joe. Cathy, let's keep the jokes rolling.\"\n",
    ")"
   ]
  },
  {
   "cell_type": "code",
   "execution_count": 8,
   "id": "e11dee95-0b57-4458-94ff-5119823fa6fa",
   "metadata": {},
   "outputs": [
    {
     "name": "stdout",
     "output_type": "stream",
     "text": [
      "\u001b[33mcathy\u001b[0m (to joe):\n",
      "\n",
      "What's last joke we talked about?\n",
      "\n",
      "--------------------------------------------------------------------------------\n",
      "\u001b[33mjoe\u001b[0m (to cathy):\n",
      "\n",
      "We were joking about gourmet microwave burritos becoming the new luxury food of air travel. It was a hilarious concept!\n",
      "\n",
      "--------------------------------------------------------------------------------\n",
      "\u001b[33mcathy\u001b[0m (to joe):\n",
      "\n",
      "What a fun conversation! Thanks for the laughs! I gotta go.\n",
      "\n",
      "--------------------------------------------------------------------------------\n"
     ]
    }
   ],
   "source": [
    "cathy.send(message=\"What's last joke we talked about?\", recipient=joe)"
   ]
  },
  {
   "cell_type": "code",
   "execution_count": null,
   "id": "367c0248-30bb-47e1-8c05-94b842916368",
   "metadata": {},
   "outputs": [],
   "source": []
  },
  {
   "cell_type": "code",
   "execution_count": null,
   "id": "7634778f-7a8b-4def-b21a-d76ba67ee0e2",
   "metadata": {},
   "outputs": [],
   "source": []
  }
 ],
 "metadata": {
  "kernelspec": {
   "display_name": "Python 3 (ipykernel)",
   "language": "python",
   "name": "python3"
  },
  "language_info": {
   "codemirror_mode": {
    "name": "ipython",
    "version": 3
   },
   "file_extension": ".py",
   "mimetype": "text/x-python",
   "name": "python",
   "nbconvert_exporter": "python",
   "pygments_lexer": "ipython3",
   "version": "3.12.0"
  }
 },
 "nbformat": 4,
 "nbformat_minor": 5
}
