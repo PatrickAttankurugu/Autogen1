{
 "cells": [
  {
   "cell_type": "code",
   "execution_count": 1,
   "id": "eda0d0c5-d83f-4e5b-9986-16af694dd7eb",
   "metadata": {},
   "outputs": [],
   "source": [
    "from utils import get_openai_api_key\n",
    "OPENAI_API_KEY = get_openai_api_key()\n",
    "llm_config = {\"model\": \"gpt-3.5-turbo\"}"
   ]
  },
  {
   "cell_type": "code",
   "execution_count": 2,
   "id": "2f93eb1d-1166-48dd-ac1d-ce749bf10941",
   "metadata": {},
   "outputs": [],
   "source": [
    "task = '''\n",
    "        Write a concise but engaging blogpost about\n",
    "       DeepLearning.AI. Make sure the blogpost is\n",
    "       within 100 words.\n",
    "       '''\n"
   ]
  },
  {
   "cell_type": "markdown",
   "id": "d9de58d6-868b-4016-92b6-44dc345ee9bb",
   "metadata": {},
   "source": [
    "## Create a writer agent"
   ]
  },
  {
   "cell_type": "code",
   "execution_count": 3,
   "id": "d77dd7a1-7c56-49ea-bace-ad3cf5420a16",
   "metadata": {},
   "outputs": [],
   "source": [
    "import autogen\n",
    "\n",
    "writer = autogen.AssistantAgent(\n",
    "    name=\"Writer\",\n",
    "    system_message=\"You are a writer. You write engaging and concise \" \n",
    "        \"blogpost (with title) on given topics. You must polish your \"\n",
    "        \"writing based on the feedback you receive and give a refined \"\n",
    "        \"version. Only return your final work without additional comments.\",\n",
    "    llm_config=llm_config,\n",
    ")"
   ]
  },
  {
   "cell_type": "code",
   "execution_count": 4,
   "id": "5fcf3eab-50c2-47a9-bbc6-e1d826ff6d86",
   "metadata": {},
   "outputs": [],
   "source": [
    "reply = writer.generate_reply(messages=[{\"content\": task, \"role\": \"user\"}])"
   ]
  },
  {
   "cell_type": "code",
   "execution_count": 5,
   "id": "7eeaf11b-86c1-470f-b398-9d6c92f1574c",
   "metadata": {},
   "outputs": [
    {
     "name": "stdout",
     "output_type": "stream",
     "text": [
      "Title: Unveiling the Power of DeepLearning.AI\n",
      "\n",
      "Unravel the mysteries of artificial intelligence with DeepLearning.AI! Offering top-tier online courses created by AI pioneer Andrew Ng, DeepLearning.AI equips learners with the skills needed to excel in the rapidly evolving tech industry. Whether you're a beginner or a seasoned professional, the comprehensive curriculum covers everything from neural networks to natural language processing. Join a global community of learners, dive into hands-on projects, and propel your career to new heights. Embrace the future of AI with DeepLearning.AI today!\n"
     ]
    }
   ],
   "source": [
    "print(reply)"
   ]
  },
  {
   "cell_type": "markdown",
   "id": "22b8b56b-3799-42ed-a584-49af6b4ca793",
   "metadata": {},
   "source": [
    "## Adding reflection \n",
    "\n",
    "Create a critic agent to reflect on the work of the writer agent."
   ]
  },
  {
   "cell_type": "code",
   "execution_count": 6,
   "id": "530c9094-c70c-4ec3-96aa-d7b4295acd76",
   "metadata": {},
   "outputs": [],
   "source": [
    "critic = autogen.AssistantAgent(\n",
    "    name=\"Critic\",\n",
    "    is_termination_msg=lambda x: x.get(\"content\", \"\").find(\"TERMINATE\") >= 0,\n",
    "    llm_config=llm_config,\n",
    "    system_message=\"You are a critic. You review the work of \"\n",
    "                \"the writer and provide constructive \"\n",
    "                \"feedback to help improve the quality of the content.\",\n",
    ")"
   ]
  },
  {
   "cell_type": "code",
   "execution_count": 7,
   "id": "40e82707-aefa-4c39-be5f-1225583e402e",
   "metadata": {},
   "outputs": [
    {
     "name": "stdout",
     "output_type": "stream",
     "text": [
      "\u001b[33mCritic\u001b[0m (to Writer):\n",
      "\n",
      "\n",
      "        Write a concise but engaging blogpost about\n",
      "       DeepLearning.AI. Make sure the blogpost is\n",
      "       within 100 words.\n",
      "       \n",
      "\n",
      "--------------------------------------------------------------------------------\n",
      "\u001b[33mWriter\u001b[0m (to Critic):\n",
      "\n",
      "Title: Unveiling the Power of DeepLearning.AI\n",
      "\n",
      "Unravel the mysteries of artificial intelligence with DeepLearning.AI! Offering top-tier online courses created by AI pioneer Andrew Ng, DeepLearning.AI equips learners with the skills needed to excel in the rapidly evolving tech industry. Whether you're a beginner or a seasoned professional, the comprehensive curriculum covers everything from neural networks to natural language processing. Join a global community of learners, dive into hands-on projects, and propel your career to new heights. Embrace the future of AI with DeepLearning.AI today!\n",
      "\n",
      "--------------------------------------------------------------------------------\n",
      "\u001b[33mCritic\u001b[0m (to Writer):\n",
      "\n",
      "This blogpost effectively captures the essence of DeepLearning.AI in an engaging and informative manner. The title sets the tone for the content and grabs the reader's attention. The post highlights the key features of the platform, such as the credibility of the creator, the range of courses offered, and the hands-on learning experience. However, to make it even more impactful, consider adding specific examples of successful learners or projects completed through DeepLearning.AI. This would provide concrete evidence of the platform's effectiveness and appeal to the reader's emotions. Overall, great job!\n",
      "\n",
      "--------------------------------------------------------------------------------\n",
      "\u001b[33mWriter\u001b[0m (to Critic):\n",
      "\n",
      "Title: Unveiling the Power of DeepLearning.AI\n",
      "\n",
      "Delve into the world of AI with DeepLearning.AI, curated by the renowned Andrew Ng. The platform offers a plethora of courses catering to both novices and experts in the field, covering diverse topics like neural networks and natural language processing. By fostering a global learner community, engaging in practical projects, and championing career growth, DeepLearning.AI is revolutionizing AI education. Witness success stories like Jane, who landed a job in AI after completing the course. Ignite your AI journey with DeepLearning.AI – where knowledge meets opportunity.\n",
      "\n",
      "--------------------------------------------------------------------------------\n"
     ]
    }
   ],
   "source": [
    "res = critic.initiate_chat(\n",
    "    recipient=writer,\n",
    "    message=task,\n",
    "    max_turns=2,\n",
    "    summary_method=\"last_msg\"\n",
    ")"
   ]
  },
  {
   "cell_type": "markdown",
   "id": "4d5e85e8-8bdb-478f-b81d-51f80cf5a7c9",
   "metadata": {},
   "source": [
    "## Nested chat"
   ]
  },
  {
   "cell_type": "code",
   "execution_count": 11,
   "id": "a1363499-085b-4c8e-80e2-80a58c681823",
   "metadata": {},
   "outputs": [],
   "source": [
    "SEO_reviewer = autogen.AssistantAgent(\n",
    "    name=\"SEO Reviewer\",\n",
    "    llm_config=llm_config,\n",
    "    system_message=\"You are an SEO reviewer, known for \"\n",
    "        \"your ability to optimize content for search engines, \"\n",
    "        \"ensuring that it ranks well and attracts organic traffic. \" \n",
    "        \"Make sure your suggestion is concise (within 3 bullet points), \"\n",
    "        \"concrete and to the point. \"\n",
    "        \"Begin the review by stating your role.\",\n",
    ")\n"
   ]
  },
  {
   "cell_type": "code",
   "execution_count": 12,
   "id": "da7a0495-47f5-40d6-8a68-4bef576fc3f0",
   "metadata": {},
   "outputs": [],
   "source": [
    "legal_reviewer = autogen.AssistantAgent(\n",
    "    name=\"Legal Reviewer\",\n",
    "    llm_config=llm_config,\n",
    "    system_message=\"You are a legal reviewer, known for \"\n",
    "        \"your ability to ensure that content is legally compliant \"\n",
    "        \"and free from any potential legal issues. \"\n",
    "        \"Make sure your suggestion is concise (within 3 bullet points), \"\n",
    "        \"concrete and to the point. \"\n",
    "        \"Begin the review by stating your role.\",\n",
    ")"
   ]
  },
  {
   "cell_type": "code",
   "execution_count": 13,
   "id": "96375995-4910-4225-8bb1-09c5e8c6d941",
   "metadata": {},
   "outputs": [],
   "source": [
    "ethics_reviewer = autogen.AssistantAgent(\n",
    "    name=\"Ethics Reviewer\",\n",
    "    llm_config=llm_config,\n",
    "    system_message=\"You are an ethics reviewer, known for \"\n",
    "        \"your ability to ensure that content is ethically sound \"\n",
    "        \"and free from any potential ethical issues. \" \n",
    "        \"Make sure your suggestion is concise (within 3 bullet points), \"\n",
    "        \"concrete and to the point. \"\n",
    "        \"Begin the review by stating your role. \",\n",
    ")"
   ]
  },
  {
   "cell_type": "code",
   "execution_count": null,
   "id": "041eb5e4-f5ee-4a63-99f7-a255708f0b4f",
   "metadata": {},
   "outputs": [],
   "source": []
  }
 ],
 "metadata": {
  "kernelspec": {
   "display_name": "Python 3 (ipykernel)",
   "language": "python",
   "name": "python3"
  },
  "language_info": {
   "codemirror_mode": {
    "name": "ipython",
    "version": 3
   },
   "file_extension": ".py",
   "mimetype": "text/x-python",
   "name": "python",
   "nbconvert_exporter": "python",
   "pygments_lexer": "ipython3",
   "version": "3.12.0"
  }
 },
 "nbformat": 4,
 "nbformat_minor": 5
}
